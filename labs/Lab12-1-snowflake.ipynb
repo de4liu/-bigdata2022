{
 "cells": [
  {
   "cell_type": "markdown",
   "id": "a112ae99-a83c-470f-b11b-e36ef55e10ad",
   "metadata": {},
   "source": [
    "# Lab 12-1 Getting Started with Snowflake "
   ]
  },
  {
   "cell_type": "markdown",
   "id": "3ff19b54-3ac7-4a3b-ba8c-95fbaf88d070",
   "metadata": {},
   "source": [
    "This entry-level guide is designed for database and data warehouse administrators and architects will help you navigate the Snowflake interface and introduce you to some of our core capabilities.  \n",
    "\n",
    "\n",
    "This lab is based on the analytics team at Citi Bike, a real, citywide bike sharing system in New York City, USA. The team wants to run analytics on data from their internal transactional systems to better understand their riders and how to best serve them.\n",
    "\n",
    "We will first load structured .csv data from rider transactions into Snowflake. Later we will work with open-source, semi-structured JSON weather data to determine if there is any correlation between the number of bike rides and the weather.\n",
    "\n",
    "\n",
    "This lab is largely based on [**Snowflake Quickstarts - Get Started with Snowfalek - Zero to Snowflake**](https://quickstarts.snowflake.com/guide/getting_started_with_snowflake/index.html)\n",
    "\n",
    "What You'll Learn:\n",
    "- How to create stages, databases, tables, views, and virtual warehouses.\n",
    "- How to load structured and semi-structured data.\n",
    "- How to perform analytical queries on data in Snowflake, including joins between tables.\n",
    "- How to clone objects.\n",
    "- How to undo user errors using Time Travel.\n",
    "- How to create roles and users, and grant them privileges.\n",
    "- How to consume datasets in the Snowflake Data Marketplace."
   ]
  },
  {
   "cell_type": "markdown",
   "id": "e7b4984e-313b-4c48-aca1-cf80da38fcc3",
   "metadata": {},
   "source": [
    "## 1: Get familiar with the Snowflake UI\n",
    "Let's get you acquainted with Snowflake! This section covers the basic components of the user interface. "
   ]
  },
  {
   "cell_type": "markdown",
   "id": "74848aa2-f437-44c3-b5f0-965300bd1ea1",
   "metadata": {},
   "source": [
    "1.1 Explore the main tabs in the left panel:\n",
    "\n",
    "![Panel](https://quickstarts.snowflake.com/guide/getting_started_with_snowflake/img/ce13b4af78a66c6b.png)\n",
    "\n",
    "- **Worksheets**: provides an interface for submitting SQL queries, performing DDL and DML operations, and viewing results as your queries or operations complete\n",
    "- **Dashboard**: The Dashboards tab allows you to create flexible displays of one or more charts (in the form of tiles, which can be rearranged). \n",
    "- **Data**: Under Data, the **Databases** tab shows information about the databases you have created or have permission to access. You can create, clone, drop, or transfer ownership of databases, as well as load data in the UI.\n",
    "- **Marketplace**: The Marketplace tab is where any Snowflake customer can browse and consume data sets made available by providers. \n",
    "- **Activity**: Under Activity there are two tabs **Query History** and Copy History.\n",
    "- **Admin**: Under Admin, the Warehouses tab is where you **set up and manage virtual warehouses**. "
   ]
  },
  {
   "cell_type": "markdown",
   "id": "ae59d493-237f-4372-9e11-df6c9841878b",
   "metadata": {},
   "source": [
    "## 2: Preparing to Load Data\n",
    "\n",
    "Let's start by preparing to load the structured Citi Bike rider transaction data into Snowflake.\n",
    "\n",
    "This section walks you through the steps to:\n",
    "\n",
    "- Create a database and table.\n",
    "- Create an external **stage**.\n",
    "- Create a file format for the data.\n",
    "\n",
    "The data we will be using is bike share data provided by Citi Bike NYC. The data has been exported and pre-staged for you in an Amazon AWS S3 bucket in the US-EAST region. On AWS S3, the data represents 61.5M rows, 377 zipped csv files, \n",
    "\n",
    "The data has the following format:\n",
    "![data format](https://quickstarts.snowflake.com/guide/getting_started_with_snowflake/img/a58c8af550412709.png)\n",
    "\n",
    "- It is in comma-delimited format \n",
    "- with a single header line and \n",
    "- double quotes enclosing all string values."
   ]
  },
  {
   "cell_type": "markdown",
   "id": "7d6425ea",
   "metadata": {},
   "source": [
    "### 2.1 Create a Virtual Warehouse\n",
    "\n",
    "- Ensure you are using the **sysadmin** role. This is because the objects created by one role may not be accessible in another role. We will use this role mostly.\n",
    "- Go to the **Admin** tab > **Warehouses**, click **\"+ Warehouse\"** button (top right) to create a new virtual warehouse. \n",
    "- Give the warehouse a name, `compute_wh` and set its size to **small**.\n",
    "- Then create warehouse. After this, you should see a warehouse."
   ]
  },
  {
   "cell_type": "markdown",
   "id": "79857f1d-6ac0-4d49-a9ad-edbadde4603e",
   "metadata": {},
   "source": [
    "### 2.2 Create a database\n",
    "\n",
    "- Navigate to the **Databases** tab. Click **Create**, name the database `CITIBIKE`, then click **CREATE**.\n",
    "\n",
    "\n",
    "> note that when you create a new database, two schemas are automatically created,`PUBIC` and `INFORMATION_SCHEMA`. The former contains the actual tables whereas the latter is the meta tables of the database. \n"
   ]
  },
  {
   "cell_type": "markdown",
   "id": "4eab5d4b-39f7-4aa3-9bf5-f9bc575f2e34",
   "metadata": {},
   "source": [
    "### 2.3 Create a worksheet and configure it\n",
    "- Now navigate to the **Worksheets** tab, create a new worksheet using **+ Worksheet** on the top right. \n",
    "- Modify the worksheet name to \"**Citibike**\" using the dropdown menu from the top left.\n",
    "- Set the **role** and **warehouse** (top right) for the worksheet to **SYSADMIN** and **COMPUTE_WH** respectively.\n",
    "- Set the **context** of the worksheet (on top of the worksheet) to **CITIBIKE.PUBLIC**\n",
    "\n",
    "\n",
    "We will use the worksheet to run most of our commands. "
   ]
  },
  {
   "cell_type": "markdown",
   "id": "afea5b48",
   "metadata": {},
   "source": [
    "### 2.4 Create the `Trips` table.\n",
    "\n",
    "Copy the following SQL text into your worksheet:\n",
    "\n",
    "```sql\n",
    "create or replace table trips\n",
    "(tripduration integer,\n",
    "starttime timestamp,\n",
    "stoptime timestamp,\n",
    "start_station_id integer,\n",
    "start_station_name string,\n",
    "start_station_latitude float,\n",
    "start_station_longitude float,\n",
    "end_station_id integer,\n",
    "end_station_name string,\n",
    "end_station_latitude float,\n",
    "end_station_longitude float,\n",
    "bikeid integer,\n",
    "membership_type string,\n",
    "usertype string,\n",
    "birth_year integer,\n",
    "gender integer);\n",
    "```\n",
    "\n",
    "Run the query by placing your cursor anywhere in the SQL text and clicking the blue **Play/Run** button in the top right of the worksheet. Or use the keyboard shortcut <kbd>Ctrl/Cmd+Enter</kbd>.\n"
   ]
  },
  {
   "cell_type": "markdown",
   "id": "471ad288",
   "metadata": {},
   "source": [
    "### 2.5 Verify the table.\n",
    "\n",
    "- Navigate to the **Databases** tab by clicking the **HOME** icon in the upper left corner of the worksheet. \n",
    "- Then click **Data** > **Databases**. In the list of databases, click CITIBIKE > PUBLIC > TABLES to see your newly created `TRIPS` table. \n",
    "\n",
    "> Some times you need to refresh it (using the <kbd>...</kbd> button next to the database) to see the table"
   ]
  },
  {
   "cell_type": "markdown",
   "id": "01e1e230",
   "metadata": {},
   "source": [
    "### 2.6 Create an External Stage\n",
    "We are working with structured, comma-delimited data that has already been staged in a public, external S3 bucket. \n",
    "\n",
    "Before we can use this data, we first need to create a **Stage** that specifies the location of our external bucket.\n",
    "\n",
    "\n",
    "From the **Databases** tab, click the  **CITIBIKE** database and **PUBLIC** schema. In the **Stages** tab, click the **Create** button, then **Stage** > **Amazon S3**.\n",
    "\n",
    "In the \"Create Securable Object\" dialog, replace the following values in the SQL statement:\n",
    "\n",
    "- stage_name: `citibike_trips`\n",
    "- url: `s3://snowflake-workshop-lab/citibike-trips-csv/`\n",
    "\n",
    "Note: \n",
    "- Make sure to include the final forward slash (/) at the end of the URL or you will encounter errors later when loading data from the bucket. \n",
    "- Also ensure you have removed ‘credentials = (...)' statejment which is not required because the bucket is public (but this would be needed if you have a private bucket).\n"
   ]
  },
  {
   "cell_type": "markdown",
   "id": "5f643381",
   "metadata": {},
   "source": [
    "### 2.7 Verify stage contents\n",
    "\n",
    "Now let's take a look at the contents of the `citibike_trips` stage.  Navigate to the **Worksheets** tab and execute the following SQL statement:\n",
    "\n",
    "```sql\n",
    "list @citibike_trips;\n",
    "```\n",
    "\n",
    "> **list @stageName**: Returns a list of files that have been staged. for more detail of the list command, please check out the [documentation](https://docs.snowflake.com/en/sql-reference/sql/list.html)"
   ]
  },
  {
   "cell_type": "markdown",
   "id": "e7886e70",
   "metadata": {},
   "source": [
    "### 2.8 Create a File Format\n",
    "\n",
    "Before we can load the data into Snowflake, we have to create a file format that matches the data structure.\n",
    "\n",
    "In the worksheet, run the following command to create the file format:\n",
    "\n",
    "```sql\n",
    "create or replace file format csv type='csv'\n",
    "  compression = 'auto' field_delimiter = ',' record_delimiter = '\\n'\n",
    "  skip_header = 0 field_optionally_enclosed_by = '\\042' trim_space = false\n",
    "  error_on_column_count_mismatch = false escape = 'none' escape_unenclosed_field = '\\134'\n",
    "  date_format = 'auto' timestamp_format = 'auto' null_if = ('');\n",
    "```\n",
    "\n",
    "In the above, we specify\n",
    "\n",
    "- the format name is \"csv\" (via `format csv`)\n",
    "- the file may be compressed (via `compression = 'auto' `)\n",
    "- the file is comma separated (via `field_delimiter = ','`)\n",
    "- the file has no header (via skip_header =0)\n",
    "- files are quoted using *: via `field_optionally_enclosed_by = '\\042'`)\n",
    "\n",
    "for more detailed options of this `create file format` command, please visit [documentation page](https://docs.snowflake.com/en/sql-reference/sql/create-file-format.html)\n",
    "\n",
    "The file format type could be  CSV, JSON, AVRO, ORC, PARQUET, XML."
   ]
  },
  {
   "cell_type": "markdown",
   "id": "e5c8da82",
   "metadata": {},
   "source": [
    "### 2.9 Verify the File Format\n",
    "\n",
    "Verify that the file format has been created with the correct settings by executing the following command:\n",
    "\n",
    "```sql\n",
    "show file formats in database citibike;\n",
    "```"
   ]
  },
  {
   "cell_type": "markdown",
   "id": "9aa552b3",
   "metadata": {},
   "source": [
    "## 3 Loading Data\n",
    "\n",
    "\n",
    "### 3.1 Load stage files\n",
    "\n",
    "Execute the following statements in the worksheet to load the staged data into the table. This may take 20-30 seconds.\n",
    "\n",
    "```sql\n",
    "copy into trips from @citibike_trips file_format=csv PATTERN = '.*csv.*' ;\n",
    "```\n",
    "\n",
    "> This utilizes the stage and file format we have created in the previous step.\n",
    "\n",
    "> We also limit the stage files to ones containing \"csv\" (via RegEx pattern `PATTERN = '.*csv.*'` )"
   ]
  },
  {
   "cell_type": "markdown",
   "id": "cd969d02",
   "metadata": {},
   "source": [
    "### 3.2 Check Query History\n",
    "\n",
    "- Next, navigate to the **Query History** tab by clicking the **Home** icon and then **Activity** > **Query History**. \n",
    "- Select the query at the top of the list, which should be the COPY INTO statement that was last executed. \n",
    "- Select the **Query Profile** tab and note the steps taken by the query to execute, query details, most expensive nodes, and additional statistics."
   ]
  },
  {
   "cell_type": "markdown",
   "id": "bff787e2",
   "metadata": {},
   "source": [
    "### 3.3 Preparation for Reloading the data with a large virtual warehouse\n",
    "\n",
    "Now let's reload the `TRIPS` table with a larger warehouse to see the impact the additional compute resources have on the loading time.\n",
    "\n",
    "First, go back to the worksheet and use the TRUNCATE TABLE command to clear the table of all data and metadata:\n",
    "\n",
    "```sql\n",
    "truncate table trips;\n",
    "```\n",
    "\n",
    "Then, Verify that the table is empty by running the following command:\n",
    "```sql\n",
    "select * from trips limit 10;\n",
    "```\n",
    "\n",
    "The result should show \"Query produced no results\".\n",
    "\n",
    "Change the warehouse size to large using the following ALTER WAREHOUSE (This is equivalent to changing the warehouse through UI):\n",
    "\n",
    "```sql\n",
    "alter warehouse compute_wh set warehouse_size='large';\n",
    "```\n",
    "\n",
    "Verify the change using the following SHOW WAREHOUSES:\n",
    "\n",
    "```sql\n",
    "show warehouses;\n",
    "```"
   ]
  },
  {
   "cell_type": "markdown",
   "id": "1fd6c387",
   "metadata": {},
   "source": [
    "### 3.4 Reload the data with a large virtual warehouse\n",
    "\n",
    "Execute the same COPY INTO statement as before to load the same data again:\n",
    "\n",
    "```sql\n",
    "copy into trips from @citibike_trips file_format=CSV PATTERN = '.*csv.*' ; \n",
    "```\n",
    "\n"
   ]
  },
  {
   "cell_type": "markdown",
   "id": "197f244f",
   "metadata": {},
   "source": [
    "### 3.5 Verify the speed of loading\n",
    "\n",
    "- Once the load is done, navigate back to the **Queries** page (**Home** icon > **Activity** > **Query History**). \n",
    "- Compare the times of the two COPY INTO commands. The load using the Large warehouse was significantly faster.\n"
   ]
  },
  {
   "cell_type": "markdown",
   "id": "0092427a",
   "metadata": {},
   "source": [
    "## 4: Working with Queries and Cloning\n",
    "\n",
    "### 4.1 Create a New Warehouse for Data Analytics\n",
    "\n",
    "Navigate to the **Admin** > **Warehouses** tab, click **+ Warehouse**, and name the new warehouse **ANALYTICS_WH** and set the size to **Large**.\n",
    "\n",
    "If you are using Snowflake Enterprise Edition (or higher) and Multi-cluster Warehouses is enabled, you will see additional settings:\n",
    "\n",
    "- Make sure **Max Clusters** is set to 1.\n",
    "- Leave all the other settings at their defaults. It is most important that you keep the **auto-suspend** and **auto-resume** turned on. "
   ]
  },
  {
   "cell_type": "markdown",
   "id": "7405acad",
   "metadata": {},
   "source": [
    "### 4.2 Run some Queries\n",
    "\n",
    "Your worksheet context should be the following:\n",
    "\n",
    "Role: `SYSADMIN` Warehouse: `ANALYTICS_WH` (L) Database: `CITIBIKE` Schema = `PUBLIC`\n",
    "\n",
    "First run,\n",
    "\n",
    "```sql\n",
    "select * from trips limit 20;\n",
    "```"
   ]
  },
  {
   "cell_type": "markdown",
   "id": "011bb926",
   "metadata": {},
   "source": [
    "### 4.3 Hourly statistics on Citi Bike usage\n",
    "\n",
    "Then, execute the following to obtain hourly statistics on citi bike usage. \n",
    "\n",
    "```sql\n",
    "select date_trunc('hour', starttime) as \"date\", count(*) as \"num trips\",\n",
    "avg(tripduration)/60 as \"avg duration (mins)\", avg(haversine(start_station_latitude, start_station_longitude, end_station_latitude, end_station_longitude)) as \"avg distance (km)\"\n",
    "from trips\n",
    "group by 1 order by 1;\n",
    "```\n",
    "\n",
    "In the above: \n",
    "\n",
    "- `date_trunc` [is a function](https://docs.snowflake.com/en/sql-reference/functions/date_trunc.html) that truncates a DATE, TIME, or TIMESTAMP to the specified precision. e.g. `date_truncate('DAY','2015-05-08 23:39:20.123')` would produce ` 2015-05-08`\n",
    "- `HAVERSINE( lat1, lon1, lat2, lon2 )`: Calculates the great circle distance in kilometers between two points on the Earth’s surface, using the Haversine formula. The two points are specified by their latitude and longitude in degrees.\n",
    "- Group by 1 and order by 1: these \"1\"s refer to the first field in the select statement, i.e. 'date'. "
   ]
  },
  {
   "cell_type": "markdown",
   "id": "63727068",
   "metadata": {},
   "source": [
    "### 4.4 Using the Result Cache\n",
    "\n",
    "Snowflake has a result cache that holds the results of every query executed in the past 24 hours. These are available across warehouses, so query results returned to one user are available to any other user on the system who executes the same query, provided the underlying data has not changed. \n",
    "\n",
    "Let's see the result cache in action by running the exact same query again.\n",
    "\n",
    "```sql\n",
    "select date_trunc('hour', starttime) as \"date\", count(*) as \"num trips\",\n",
    "avg(tripduration)/60 as \"avg duration (mins)\", avg(haversine(start_station_latitude, start_station_longitude, end_station_latitude, end_station_longitude)) as \"avg distance (km)\"\n",
    "from trips\n",
    "group by 1 order by 1;\n",
    "```\n",
    "\n",
    "In the Query Details pane on the right, note that the second query runs significantly faster because the results have been cached."
   ]
  },
  {
   "cell_type": "markdown",
   "id": "7be16c3f",
   "metadata": {},
   "source": [
    "### 4.5 Which months are the busiest\n",
    "\n",
    "Next, let's run the following query to see which months are the busiest:\n",
    "\n",
    "```sql\n",
    "select\n",
    "monthname(starttime) as \"month\",\n",
    "count(*) as \"num trips\"\n",
    "from trips\n",
    "group by 1 order by 2 desc;\n",
    "```"
   ]
  },
  {
   "cell_type": "markdown",
   "id": "9766b5fa",
   "metadata": {},
   "source": [
    "### 4.6 Zero-copy cloning\n",
    "\n",
    "Snowflake allows you to create clones, also known as \"zero-copy clones\" of tables, schemas, and databases in seconds. When a clone is created, Snowflake takes a snapshot of data present in the source object and makes it available to the cloned object. The cloned object is writable and independent of the clone source. Therefore, changes made to either the source object or the clone object are not included in the other.\n",
    "\n",
    "A popular use case for zero-copy cloning is to clone a production environment for use by Development & Testing teams to test and experiment without adversely impacting the production environment and eliminating the need to set up and manage two separate environments.\n",
    "\n",
    "A table clone statement looks like this:\n",
    "\n",
    "```sql\n",
    "create table Y clone X;\n",
    "```\n",
    "\n",
    "Write the following command in the worksheet to create a development (dev) table clone `trips_dev` of the `trips` table.\n",
    "\n",
    "Then, click the three dots (...) in the left pane and select **Refresh**. Expand the object tree under the `CITIBIKE` database and verify that you see a new table named `trips_dev`. \n",
    "\n",
    "Your Development team now can do whatever they want with this table, including updating or deleting it, without impacting the trips table or any other object."
   ]
  },
  {
   "cell_type": "markdown",
   "id": "1cdc70d0",
   "metadata": {},
   "source": [
    "\n",
    "```sql\n",
    "create table trips_dev clone trips\n",
    "```\n"
   ]
  },
  {
   "cell_type": "markdown",
   "id": "7a7717fa",
   "metadata": {},
   "source": [
    "## 5: Working with Semi-Structured Data, Views, & Joins\n",
    "\n",
    "This section requires loading additional data and, therefore, provides a review of data loading while also introducing loading semi-structured data.\n",
    "\n",
    "In this section, we will:\n",
    "\n",
    "- Load weather data in semi-structured JSON format held in a public S3 bucket.\n",
    "- Create a view and query the JSON data using SQL dot notation.\n",
    "- Run a query that joins the JSON data to the previously loaded TRIPS data.\n",
    "- Analyze the weather and ride count data to determine their relationship.\n",
    "\n",
    "The JSON data consists of weather information provided by MeteoStat detailing the historical conditions of New York City from 2016-07-05 to 2019-06-25. It is also staged on AWS S3 where the data consists of 75k rows, 36 objects, and 1.1MB compressed. If viewed in a text editor, the raw JSON in the GZ files looks like:\n",
    "\n",
    "![json](https://quickstarts.snowflake.com/guide/getting_started_with_snowflake/img/c025f1200b524e26.png)\n",
    "\n",
    "\n",
    "In other words, this json file is a list of json documents. Our strategy is to create a table with one column of **variant**, then create a view based on this table using the data extracted from each json document (i.e. a row of the table).\n"
   ]
  },
  {
   "cell_type": "markdown",
   "id": "b298f18e",
   "metadata": {},
   "source": [
    "### 5.1 Create a New Database and Table for the Data\n",
    "\n",
    "First, in the worksheet, let's create a database named `WEATHER` to use for storing the semi-structured JSON data.\n",
    "\n"
   ]
  },
  {
   "cell_type": "markdown",
   "id": "d5f564db",
   "metadata": {},
   "source": [
    "```sql\n",
    "create database weather;\n",
    "```"
   ]
  },
  {
   "cell_type": "markdown",
   "id": "48f466ed",
   "metadata": {},
   "source": [
    "### 5.2 Set up the worksheet context using SQL commands\n",
    "\n",
    "Execute the following USE commands to set the worksheet context appropriately:\n",
    "\n",
    "- role:sysadmin\n",
    "- warehouse:compute_wh\n",
    "- database:weather\n",
    "- schema:public\n"
   ]
  },
  {
   "cell_type": "markdown",
   "id": "007510c6",
   "metadata": {},
   "source": [
    "\n",
    "```sql\n",
    "-- set the context\n",
    "use role sysadmin;\n",
    "use warehouse compute_wh;\n",
    "use database weather;\n",
    "use schema public;\n",
    "```"
   ]
  },
  {
   "cell_type": "markdown",
   "id": "9d7ff4bb",
   "metadata": {},
   "source": [
    "### 5.3 Create a Table for Loading the Json data\n",
    "\n",
    "Next, let's create a table named `JSON_WEATHER_DATA` to use for loading the JSON data. \n",
    "- The table should have a single column `v` of variant type.\n",
    "\n",
    "> Note that Snowflake has a special column data type called VARIANT that allows storing the entire JSON object as a single row and eventually query the object directly.\n",
    "\n",
    "```sql\n",
    "create table json_weather_data (v variant);\n",
    "```"
   ]
  },
  {
   "cell_type": "markdown",
   "id": "5976a22d",
   "metadata": {},
   "source": [
    "### 5.4 Create Another External Stage\n",
    "\n",
    "In the worksheet, create a stage `nyc_weather` that points to the bucket where the semi-structured JSON data is stored on AWS S3: `s3://snowflake-workshop-lab/zero-weather-nyc`\n",
    "\n",
    "Then,  View the files in the stage area using `list @stagename`.\n"
   ]
  },
  {
   "cell_type": "markdown",
   "id": "b37ca47d",
   "metadata": {},
   "source": [
    "```sql\n",
    "\n",
    "-- create stage\n",
    "create stage nyc_weather\n",
    "url = 's3://snowflake-workshop-lab/zero-weather-nyc';\n",
    "\n",
    "-- View the files in the stage area\n",
    "\n",
    "list @nyc_weather;\n",
    "```\n"
   ]
  },
  {
   "cell_type": "markdown",
   "id": "ca0c72dd",
   "metadata": {},
   "source": [
    "### 5.5 Load and Verify Json data\n",
    "\n",
    "In the following, we will use copy into command to load json files into our table. \n",
    "\n",
    "```sql\n",
    "COPY INTO <table> FROM @stage file_format = <file_format>;\n",
    "```\n",
    "\n",
    "Here we will can specify a **FILE FORMAT object inline** in the command. In the previous section where we loaded structured data in CSV format, we had to define a file format to support the CSV structure. Because the JSON data here is well-formed, we are able to simply specify the JSON type and use all the default settings and set these options:\n",
    "\n",
    "- type: json\n",
    "- strip_outer_array: true\n",
    "\n",
    "After loading, select 10 rows to verify the loading result."
   ]
  },
  {
   "cell_type": "markdown",
   "id": "faa64c56",
   "metadata": {},
   "source": [
    "\n",
    "```sql\n",
    "-- load json:\n",
    "copy into json_weather_data\n",
    "from @ nyc_weather\n",
    "file_format = (type=json strip_outer_array=true)\n",
    "\n",
    "-- verify\n",
    "select * from json_weather_data limit 10;\n",
    "```"
   ]
  },
  {
   "cell_type": "markdown",
   "id": "ed9c0888",
   "metadata": {},
   "source": [
    "### 5.6 Create a View and Query Semi-Structured Data\n",
    "\n",
    "Next, let's look at how Snowflake allows us to create a view and also query the JSON data directly using SQL.\n",
    "\n",
    "> A **view** allows the result of a query to be accessed as if it were a table.\n",
    "\n",
    "> Snowflake also supports **materialized views** in which the query results are stored as though the results are a table. This allows faster access, but requires storage space. Materialized views can be created and queried if you are using Snowflake Enterprise Edition (or higher).\n",
    "\n",
    "\n",
    "```sql\n",
    "-- create a view that will put structure onto the semi-structured data\n",
    "create or replace view json_weather_data_view as\n",
    "select\n",
    "    v:obsTime::timestamp as observation_time,\n",
    "    v:station::string as station_id,\n",
    "    v:name::string as city_name,\n",
    "    v:country::string as country,\n",
    "    v:latitude::float as city_lat,\n",
    "    v:longitude::float as city_lon,\n",
    "    v:weatherCondition::string as weather_conditions,\n",
    "    v:coco::int as weather_conditions_code,\n",
    "    v:temp::float as temp,\n",
    "    v:prcp::float as rain,\n",
    "    v:tsun::float as tsun,\n",
    "    v:wdir::float as wind_dir,\n",
    "    v:wspd::float as wind_speed,\n",
    "    v:dwpt::float as dew_point,\n",
    "    v:rhum::float as relative_humidity,\n",
    "    v:pres::float as pressure\n",
    "from\n",
    "    json_weather_data\n",
    "where\n",
    "    station_id = '72502';\n",
    "\n",
    "```\n",
    "\n",
    "\n",
    "In the above, SQL dot notation `v:temp` is used in this command to pull out values at lower levels within the JSON object hierarchy. \n",
    "\n",
    "`x::float` is a cast operator - used to cast x to the desired type. It is the same as `cast(x as float)`\n"
   ]
  },
  {
   "cell_type": "markdown",
   "id": "75540ffe",
   "metadata": {},
   "source": [
    "### 5.7 Verify the view with the following query\n",
    "\n",
    "```sql\n",
    "select * from json_weather_data_view\n",
    "where date_trunc('month', observation_time) = '2018-01-01'\n",
    "limit 20\n",
    "```"
   ]
  },
  {
   "cell_type": "markdown",
   "id": "cd766091",
   "metadata": {},
   "source": [
    "\n",
    "### 5.8 Use a Join Operation to Connect two Data Sets\n",
    "\n",
    "We will now join the `JSON_weather_data_view` to our `CITIBIKE.PUBLIC.TRIPS` data to answer our original question of how weather impacts the number of rides.\n",
    "\n",
    "Run the query below to join `WEATHER` to `TRIPS` and count the number of trips associated with certain weather conditions:\n",
    "\n",
    "> Because we are still in the worksheet, the `WEATHER` database is still in use. You must, therefore, fully qualify the reference to the `TRIPS` table by providing its database and schema name.\n",
    "\n",
    "```sql\n",
    "select weather_conditions as conditions,count(*) as num_trips\n",
    "from citibike.public.trips left outer join json_weather_data_view\n",
    "on date_trunc('hour', observation_time) = date_trunc('hour', starttime)\n",
    "where conditions is not null\n",
    "group by 1 order by 2 desc;\n",
    "```"
   ]
  },
  {
   "cell_type": "markdown",
   "id": "32edbc9e",
   "metadata": {},
   "source": [
    "## 6: Using Time Travel\n",
    "\n",
    "Snowflake's powerful Time Travel feature enables accessing historical data, as well as the objects storing the data, at any point within a period of time. \n",
    "\n",
    "Some useful applications of Time Travel include:\n",
    "\n",
    "- Restoring data-related objects such as tables, schemas, and databases that may have been deleted.\n",
    "- Duplicating and backing up data from key points in the past.\n",
    "- Analyzing data usage and manipulation over specified periods of time. "
   ]
  },
  {
   "cell_type": "markdown",
   "id": "66ff7a19",
   "metadata": {},
   "source": [
    "### 6.1  Drop and Undrop a Table\n",
    "First let's see how we can restore data objects that have been accidentally or intentionally deleted.\n",
    "\n",
    "In the CITIBIKE worksheet, run the following DROP command to remove the JSON_WEATHER_DATA table:\n",
    "\n",
    "```\n",
    "drop table json_weather_data;\n",
    "```\n",
    "\n",
    "Then, verify that the table has been dropped:\n",
    "\n",
    "```\n",
    "select * from json_weather_data limit 10;\n",
    "```\n",
    "\n",
    "Now, restore the table using the `undrop` command:\n",
    "\n",
    "```sql\n",
    "undrop table json_weather_data;\n",
    "```\n",
    "\n",
    "Verify by running the following query:\n",
    "\n",
    "```sql\n",
    "select * from json_weather_data limit 10;\n",
    "```"
   ]
  },
  {
   "cell_type": "markdown",
   "id": "80fe8800",
   "metadata": {},
   "source": [
    "### 6.2 Roll Back Accidental Changes to Table \n",
    "\n",
    "\n",
    "In the following example, we use Time Travel to roll back an unintentional DML error that replaces all the station names in the table with the word \"oops\".\n",
    "\n",
    "First, run the following SQL statements to switch your worksheet to the proper context:\n",
    "\n",
    "\n",
    "```sql\n",
    "use role sysadmin;\n",
    "use warehouse compute_wh;\n",
    "use database citibike;\n",
    "use schema public;\n",
    "```\n",
    "\n",
    "Next, simulate an error with the following DML statement:\n",
    "```sql\n",
    "update trips set start_station_name = 'oops';\n",
    "```\n",
    "\n",
    "This will result in all start_station_name changed to `oops`. You can verify it with the following query:\n",
    "\n",
    "```sql\n",
    "select start_station_name as \"station\", count(*) as \"rides\"\n",
    "from trips \n",
    "group by 1 order by 2 desc limit 20;\n",
    "```\n",
    "\n",
    "Normally we would need to scramble and hope we have a backup lying around. \n",
    "\n",
    "In Snowflake, we can simply find the query ID of the last UPDATE command and use it to restore the table to just before the query. \n"
   ]
  },
  {
   "cell_type": "markdown",
   "id": "e2e28918",
   "metadata": {},
   "source": [
    "### 6.3 obtain the query ID from the query history.\n",
    "\n",
    "First run the following query to obtain the query id of update query (searching among the last five queries with query text containing 'update').\n",
    "- [query_history_by_session](https://docs.snowflake.com/en/sql-reference/functions/query_history.html)(result_limit=>5): returns 5 historical queries meeting the critera\n",
    "- query_text like 'update%' order by start_time desc  : most recent `update` queries. \n",
    "\n",
    "```sql\n",
    "select query_id from table(information_schema.query_history_by_session (result_limit=>5))\n",
    "where query_text like 'update%' order by start_time desc limit 1\n",
    "```\n",
    "\n",
    "Save query_id to a SQL variable `query_id:\n",
    "\n",
    "```sql\n",
    "set query_id =\n",
    "(select query_id from table(information_schema.query_history_by_session (result_limit=>5))\n",
    "where query_text like 'update%' order by start_time desc limit 1);\n",
    "```\n"
   ]
  },
  {
   "cell_type": "markdown",
   "id": "4fb696ce",
   "metadata": {},
   "source": [
    "\n",
    "### 6.4 Restore the table using Time Travel\n",
    "\n",
    "Then, use `BEFORE(statement=<query_id>)` to obtain a historical version of the table. In the following, we use that version of the table to recreate the table trips.\n",
    "\n",
    "```sql\n",
    "create or replace table trips as\n",
    "(select * from trips before (statement => $query_id));\n",
    "```\n",
    "\n",
    "Run the previous query again to verify that the station names have been restored:\n",
    "```sql\n",
    "select start_station_name as \"station\", count(*) as \"rides\"\n",
    "from trips \n",
    "group by 1 order by 2 desc limit 20;\n",
    "```"
   ]
  },
  {
   "cell_type": "markdown",
   "id": "84d975aa",
   "metadata": {},
   "source": [
    "## 7: Miscellaneous \n",
    "\n",
    "## 7.1 View Account Usage\n",
    "\n",
    "\n",
    "Switch to the role of the user to AccountAdmin\n",
    "\n",
    "```sql\n",
    "use role accountadmin;\n",
    "```\n",
    "\n",
    "Then, go to **Admin** > **Usage**, you will see a usage report including (selected via one of the drop down menu):\n",
    "\n",
    "- Credits: credits consumed by the virtual warehouses in the current account.\n",
    "- Storage: Average amount of data stored in all databases, internal stages, and Snowflake Failsafe in the current account for the past month.\n",
    "- Transfers: Average amount of data transferred out of the region (for the current account) into other regions for the past month."
   ]
  },
  {
   "cell_type": "markdown",
   "id": "114f3826",
   "metadata": {},
   "source": [
    "\n",
    "## 7.2 Snowflake Data Marketplace\n",
    "\n",
    "You can use Data Marketplace to find public datasets and use them for your analysis:\n",
    "\n",
    "Make sure you're using the ACCOUNTADMIN role and, navigate to the Marketplace:\n",
    "\n",
    "Type **COVID** in the search box, scroll through the results, and select **COVID-19 Epidemiological Data** (provided by **Starschema**).\n",
    "\n",
    "When you're ready, click the **Get** button to make this information available within your Snowflake account."
   ]
  },
  {
   "cell_type": "markdown",
   "id": "eb8e7d82",
   "metadata": {},
   "source": [
    "\n",
    "## 7.3 Sharing data\n",
    "\n",
    "Snowflake enables data access between accounts through the secure data sharing features. Shares are created by data providers and imported by data consumers, either through their own Snowflake account or a provisioned Snowflake Reader account. The consumer can be an external entity or a different internal business unit that is required to have its own unique Snowflake account.\n",
    "\n",
    "With secure data sharing:\n",
    "\n",
    "- There is only one copy of the data that lives in the data provider's account.\n",
    "- Shared data is always live, real-time, and immediately available to consumers.\n",
    "- Providers can establish revocable, fine-grained access to shares.\n",
    "\n",
    "Due to a limitation of the trial account, we will not practice sharing our database. "
   ]
  }
 ],
 "metadata": {
  "kernelspec": {
   "display_name": "Python 3.8.3 ('base')",
   "language": "python",
   "name": "python3"
  },
  "language_info": {
   "codemirror_mode": {
    "name": "ipython",
    "version": 3
   },
   "file_extension": ".py",
   "mimetype": "text/x-python",
   "name": "python",
   "nbconvert_exporter": "python",
   "pygments_lexer": "ipython3",
   "version": "3.8.3"
  },
  "vscode": {
   "interpreter": {
    "hash": "f49206fcf84a9145e7e21228cbafa911d1ac18292303b01e865d8267a9c448f7"
   }
  }
 },
 "nbformat": 4,
 "nbformat_minor": 5
}
